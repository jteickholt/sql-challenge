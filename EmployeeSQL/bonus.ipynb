{
 "cells": [
  {
   "cell_type": "markdown",
   "metadata": {},
   "source": [
    "#### Import Dependencies"
   ]
  },
  {
   "cell_type": "code",
   "execution_count": 1,
   "metadata": {},
   "outputs": [],
   "source": [
    "import pandas as pd\n",
    "from sqlalchemy import create_engine\n",
    "import os\n",
    "import matplotlib.pyplot as plt\n",
    "from config import password"
   ]
  },
  {
   "cell_type": "markdown",
   "metadata": {},
   "source": [
    "#### Define connection to database."
   ]
  },
  {
   "cell_type": "code",
   "execution_count": 2,
   "metadata": {},
   "outputs": [],
   "source": [
    "dbuser = 'postgres'\n",
    "dbpassword = password\n",
    "dbhost = 'localhost'\n",
    "dbport = '5432'\n",
    "dbname= 'sql-challenge_db'\n",
    "\n",
    "engine = create_engine(f\"postgres://{dbuser}:{dbpassword}@{dbhost}:{dbport}/{dbname}\")\n",
    "\n",
    "connection = engine.connect()\n"
   ]
  },
  {
   "cell_type": "markdown",
   "metadata": {},
   "source": [
    "#### Read the needed tables into dataframes and merge"
   ]
  },
  {
   "cell_type": "code",
   "execution_count": 3,
   "metadata": {},
   "outputs": [],
   "source": [
    "salaries_df=pd.read_sql(\"SELECT * FROM salaries\", engine)\n",
    "titles_df = pd.read_sql(\"SELECT * FROM titles\", engine)\n",
    "\n",
    "# Merge the data frames\n",
    "\n",
    "merged_df = pd.merge(left=salaries_df, right=titles_df, how='left', left_on='emp_no', right_on='emp_no')\n"
   ]
  },
  {
   "cell_type": "code",
   "execution_count": 4,
   "metadata": {},
   "outputs": [
    {
     "data": {
      "text/html": [
       "<div>\n",
       "<style scoped>\n",
       "    .dataframe tbody tr th:only-of-type {\n",
       "        vertical-align: middle;\n",
       "    }\n",
       "\n",
       "    .dataframe tbody tr th {\n",
       "        vertical-align: top;\n",
       "    }\n",
       "\n",
       "    .dataframe thead th {\n",
       "        text-align: right;\n",
       "    }\n",
       "</style>\n",
       "<table border=\"1\" class=\"dataframe\">\n",
       "  <thead>\n",
       "    <tr style=\"text-align: right;\">\n",
       "      <th></th>\n",
       "      <th>emp_no</th>\n",
       "      <th>salary</th>\n",
       "      <th>from_date_x</th>\n",
       "      <th>to_date_x</th>\n",
       "      <th>id_x</th>\n",
       "      <th>title</th>\n",
       "      <th>from_date_y</th>\n",
       "      <th>to_date_y</th>\n",
       "      <th>id_y</th>\n",
       "    </tr>\n",
       "  </thead>\n",
       "  <tbody>\n",
       "    <tr>\n",
       "      <th>0</th>\n",
       "      <td>10001</td>\n",
       "      <td>60117.0</td>\n",
       "      <td>1986-06-26</td>\n",
       "      <td>1987-06-26</td>\n",
       "      <td>1</td>\n",
       "      <td>Senior Engineer</td>\n",
       "      <td>1986-06-26</td>\n",
       "      <td>9999-01-01</td>\n",
       "      <td>1</td>\n",
       "    </tr>\n",
       "    <tr>\n",
       "      <th>1</th>\n",
       "      <td>10002</td>\n",
       "      <td>65828.0</td>\n",
       "      <td>1996-08-03</td>\n",
       "      <td>1997-08-03</td>\n",
       "      <td>2</td>\n",
       "      <td>Staff</td>\n",
       "      <td>1996-08-03</td>\n",
       "      <td>9999-01-01</td>\n",
       "      <td>2</td>\n",
       "    </tr>\n",
       "    <tr>\n",
       "      <th>2</th>\n",
       "      <td>10003</td>\n",
       "      <td>40006.0</td>\n",
       "      <td>1995-12-03</td>\n",
       "      <td>1996-12-02</td>\n",
       "      <td>3</td>\n",
       "      <td>Senior Engineer</td>\n",
       "      <td>1995-12-03</td>\n",
       "      <td>9999-01-01</td>\n",
       "      <td>3</td>\n",
       "    </tr>\n",
       "    <tr>\n",
       "      <th>3</th>\n",
       "      <td>10004</td>\n",
       "      <td>40054.0</td>\n",
       "      <td>1986-12-01</td>\n",
       "      <td>1987-12-01</td>\n",
       "      <td>4</td>\n",
       "      <td>Engineer</td>\n",
       "      <td>1986-12-01</td>\n",
       "      <td>1995-12-01</td>\n",
       "      <td>4</td>\n",
       "    </tr>\n",
       "    <tr>\n",
       "      <th>4</th>\n",
       "      <td>10004</td>\n",
       "      <td>40054.0</td>\n",
       "      <td>1986-12-01</td>\n",
       "      <td>1987-12-01</td>\n",
       "      <td>4</td>\n",
       "      <td>Senior Engineer</td>\n",
       "      <td>1995-12-01</td>\n",
       "      <td>9999-01-01</td>\n",
       "      <td>5</td>\n",
       "    </tr>\n",
       "  </tbody>\n",
       "</table>\n",
       "</div>"
      ],
      "text/plain": [
       "  emp_no   salary from_date_x   to_date_x  id_x            title from_date_y  \\\n",
       "0  10001  60117.0  1986-06-26  1987-06-26     1  Senior Engineer  1986-06-26   \n",
       "1  10002  65828.0  1996-08-03  1997-08-03     2            Staff  1996-08-03   \n",
       "2  10003  40006.0  1995-12-03  1996-12-02     3  Senior Engineer  1995-12-03   \n",
       "3  10004  40054.0  1986-12-01  1987-12-01     4         Engineer  1986-12-01   \n",
       "4  10004  40054.0  1986-12-01  1987-12-01     4  Senior Engineer  1995-12-01   \n",
       "\n",
       "    to_date_y  id_y  \n",
       "0  9999-01-01     1  \n",
       "1  9999-01-01     2  \n",
       "2  9999-01-01     3  \n",
       "3  1995-12-01     4  \n",
       "4  9999-01-01     5  "
      ]
     },
     "execution_count": 4,
     "metadata": {},
     "output_type": "execute_result"
    }
   ],
   "source": [
    "merged_df.head()"
   ]
  },
  {
   "cell_type": "markdown",
   "metadata": {},
   "source": [
    "#### Create histogram of salaries"
   ]
  },
  {
   "cell_type": "code",
   "execution_count": 6,
   "metadata": {},
   "outputs": [
    {
     "data": {
      "text/plain": [
       "Text(0.5, 0, 'Salary Range')"
      ]
     },
     "execution_count": 6,
     "metadata": {},
     "output_type": "execute_result"
    },
    {
     "data": {
      "image/png": "[encoded data removed]",
      "text/plain": [
       "<Figure size 432x288 with 1 Axes>"
      ]
     },
     "metadata": {
      "needs_background": "light"
     },
     "output_type": "display_data"
    }
   ],
   "source": [
    "fig, ax = plt.subplots()\n",
    "\n",
    "ax.hist(merged_df[\"salary\"],bins=15)\n",
    "ax.set_ylabel('# of Employees')\n",
    "ax.set_xlabel('Salary Range')"
   ]
  },
  {
   "cell_type": "markdown",
   "metadata": {},
   "source": [
    "#### Calculate the average salary by job title"
   ]
  },
  {
   "cell_type": "code",
   "execution_count": 7,
   "metadata": {},
   "outputs": [
    {
     "name": "stdout",
     "output_type": "stream",
     "text": [
      "                title        salary\n",
      "0  Assistant Engineer  48493.204786\n",
      "1            Engineer  48539.781423\n",
      "2             Manager  51531.041667\n",
      "3     Senior Engineer  48506.751806\n",
      "4        Senior Staff  58503.286614\n",
      "5               Staff  58465.271904\n",
      "6    Technique Leader  48580.505772\n"
     ]
    }
   ],
   "source": [
    "title_df=merged_df[['title','salary']].groupby('title')\n",
    "\n",
    "\n",
    "title_mean=title_df.mean()\n",
    "title_mean=title_mean.reset_index()\n",
    "\n",
    "print(title_mean)"
   ]
  },
  {
   "cell_type": "markdown",
   "metadata": {},
   "source": [
    "#### Create a bar chart of average salary by job title"
   ]
  },
  {
   "cell_type": "code",
   "execution_count": 8,
   "metadata": {},
   "outputs": [
    {
     "data": {
      "text/plain": [
       "[Text(0, 0, 'Assistant Engineer'),\n",
       " Text(0, 0, 'Engineer'),\n",
       " Text(0, 0, 'Manager'),\n",
       " Text(0, 0, 'Senior Engineer'),\n",
       " Text(0, 0, 'Senior Staff'),\n",
       " Text(0, 0, 'Staff'),\n",
       " Text(0, 0, 'Technique Leader')]"
      ]
     },
     "execution_count": 8,
     "metadata": {},
     "output_type": "execute_result"
    },
    {
     "data": {
      "image/png": "[encoded data removed]",
      "text/plain": [
       "<Figure size 432x288 with 1 Axes>"
      ]
     },
     "metadata": {
      "needs_background": "light"
     },
     "output_type": "display_data"
    }
   ],
   "source": [
    "fig, ax = plt.subplots()\n",
    "title=title_mean['title']\n",
    "salary=title_mean['salary']\n",
    "\n",
    "plt.bar(x=title, height=salary)\n",
    "ax.set_ylabel('Average Salary')\n",
    "ax.set_xticklabels(title, rotation=45, ha='right')\n",
    "\n"
   ]
  },
  {
   "cell_type": "markdown",
   "metadata": {},
   "source": [
    "#### Create a boxplot of salary by job title.  The data definately looks odd.  Most employees fall in fairly tight range for most job title but there are some extreme outliers"
   ]
  },
  {
   "cell_type": "code",
   "execution_count": 9,
   "metadata": {},
   "outputs": [
    {
     "data": {
      "text/plain": [
       "Text(0.5, 0, 'Job Title')"
      ]
     },
     "execution_count": 9,
     "metadata": {},
     "output_type": "execute_result"
    },
    {
     "data": {
      "image/png": "[encoded data removed]",
      "text/plain": [
       "<Figure size 432x288 with 1 Axes>"
      ]
     },
     "metadata": {
      "needs_background": "light"
     },
     "output_type": "display_data"
    }
   ],
   "source": [
    "salary_assteng = merged_df['salary'][merged_df['title'] == 'Assistant Engineer' ]\n",
    "salary_eng = merged_df['salary'][merged_df['title'] == 'Engineer' ]\n",
    "salary_manager = merged_df['salary'][merged_df['title'] == 'Manager' ]\n",
    "salary_seneng = merged_df['salary'][merged_df['title'] == 'Senior Engineer' ]\n",
    "salary_senstaff = merged_df['salary'][merged_df['title'] == 'Senior Staff' ]\n",
    "salary_staff = merged_df['salary'][merged_df['title'] == 'Staff' ]\n",
    "salary_techlead = merged_df['salary'][merged_df['title'] == 'Technique Leader' ]\n",
    "\n",
    "\n",
    "plotdata=[salary_assteng, salary_eng, salary_manager, salary_seneng, salary_senstaff,salary_staff,salary_techlead]\n",
    "xlabels=['Assistant Engineer', 'Engineer', 'Manager','Senior Engineer', 'Senior Staff', 'Staff', 'Technique Lead']\n",
    "\n",
    "\n",
    "fig, ax = plt.subplots()\n",
    "\n",
    "ax.boxplot(plotdata)\n",
    "ax.set_xticklabels(xlabels, rotation=45, ha='right')\n",
    "ax.set_ylabel('Salary')\n",
    "ax.set_xlabel('Job Title')\n",
    "\n"
   ]
  },
  {
   "cell_type": "markdown",
   "metadata": {},
   "source": [
    "#### Print off the info for my employee #.  Looks like I make the minimum.  My boss is real funny."
   ]
  },
  {
   "cell_type": "code",
   "execution_count": 10,
   "metadata": {},
   "outputs": [
    {
     "name": "stdout",
     "output_type": "stream",
     "text": [
      "        emp_no             title   salary\n",
      "443224  499942  Technique Leader  40000.0\n"
     ]
    }
   ],
   "source": [
    "you=merged_df[['emp_no', 'title','salary']][merged_df['emp_no'] == '499942']\n",
    "\n",
    "print(you)"
   ]
  }
 ],
 "metadata": {
  "kernelspec": {
   "display_name": "Python 3",
   "language": "python",
   "name": "python3"
  },
  "language_info": {
   "codemirror_mode": {
    "name": "ipython",
    "version": 3
   },
   "file_extension": ".py",
   "mimetype": "text/x-python",
   "name": "python",
   "nbconvert_exporter": "python",
   "pygments_lexer": "ipython3",
   "version": "3.7.3"
  }
 },
 "nbformat": 4,
 "nbformat_minor": 2
}
